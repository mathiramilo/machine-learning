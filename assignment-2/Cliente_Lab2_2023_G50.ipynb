{
  "cells": [
    {
      "cell_type": "markdown",
      "metadata": {
        "id": "P0p0geSbhir_"
      },
      "source": [
        "# Entrega 2 - Aprendizaje Bayesiano\n",
        "\n",
        "### Grupo 50:\n",
        "    - M. Ramilo (5.665.788-5)\n",
        "    - G. Dinello (5.031.022-5)\n",
        "    - F. Crocamo (4.732.816-6)"
      ]
    },
    {
      "cell_type": "markdown",
      "metadata": {
        "id": "Z4LM5ECMhuq0"
      },
      "source": [
        "## 1. Objetivo\n",
        "\n",
        "El objetivo central de esta tarea es crear un **predictor de palabras** que funcione de manera similar a las sugerencias de palabras que encontramos en los teclados de dispositivos celulares, y para lograrlo, vamos a emplear el algoritmo **Naive Bayes**. Para entrenar este modelo, utilizaremos un chat extenso extraído de **WhatsApp**. Esta elección de datos presenta desafíos particulares de preprocesamiento debido a la naturaleza informal y variada de las conversaciones en WhatsApp.\n",
        "\n",
        "En esencia, estamos buscando desarrollar una herramienta que sea capaz de **predecir la siguiente palabra** basándose en el contexto de lo que se ha escrito previamente. Esto puede ser especialmente útil en la escritura de mensajes rápidos y eficientes en dispositivos móviles, ya que ahorra tiempo al usuario al sugerir las palabras más probables de acuerdo con el contexto."
      ]
    },
    {
      "cell_type": "markdown",
      "metadata": {
        "id": "ycoZHW-DkAfj"
      },
      "source": [
        "## 2. Preprocesamiento\n",
        "\n",
        "Como se mencionó anteriormente, esta sección del proyecto se centra en la etapa de preprocesamiento de los datos, que es una fase fundamental para optimizar el chat original extraído de WhatsApp y prepararlo adecuadamente para su uso en el entrenamiento del modelo de predicción de palabras. Esta etapa desempeña un papel esencial en la calidad y eficacia del predictor de palabras que estamos desarrollando."
      ]
    },
    {
      "cell_type": "markdown",
      "metadata": {
        "id": "paB9QsePkOBl"
      },
      "source": [
        "### 2.1 Cargamos el chat"
      ]
    },
    {
      "cell_type": "code",
      "execution_count": 1,
      "metadata": {
        "id": "5GhYQHUxYRaD"
      },
      "outputs": [],
      "source": [
        "filename = \"chat.txt\"\n",
        "\n",
        "with open(filename, \"r\", encoding=\"utf-8\") as file:\n",
        "    data = file.readlines()\n",
        "\n",
        "raw_chat = []\n",
        "\n",
        "for line in data:\n",
        "    parts = line.split(\":\")\n",
        "    message = parts[-1].strip()\n",
        "    raw_chat.append(message)"
      ]
    },
    {
      "cell_type": "markdown",
      "metadata": {
        "id": "1AGy_VPrYYOj"
      },
      "source": [
        "### 2.2 Preprocesamos el chat\n",
        "\n",
        "Preprocesamos el chat para eliminar todos los elementos que disminuyen la calidad del predictor que queremos construir.\n",
        "\n",
        "Los elementos filtrados son:\n",
        "\n",
        "*   URLs\n",
        "*   Menciones (\"@alguien\")\n",
        "*   Risas\n",
        "*   Caracteres especiales\n",
        "*   Palabras con letras repetidas (\"vamosss\", \"biennnn\", etc...)\n",
        "\n",
        "Se aplicaron transformaciones a abreviaciones de palabras para mantener consistencia en predicciones. Algunos ejemplos son:\n",
        "\n",
        "*   \"tmb\" a \"también\"\n",
        "*   \"xq\" a \"porque\"\n",
        "*   \"q\" a \"que\"\n"
      ]
    },
    {
      "cell_type": "code",
      "execution_count": 2,
      "metadata": {
        "colab": {
          "base_uri": "https://localhost:8080/"
        },
        "id": "8bhZ-bQ5RHyx",
        "outputId": "de134f93-7536-44c7-e3f7-ac53d4b8f167"
      },
      "outputs": [],
      "source": [
        "import re\n",
        "\n",
        "# Expresiones regulares\n",
        "URL = r\"https?://\\S+\"\n",
        "MENTION = r\"@\\S+\"\n",
        "LAUGH = r\"(?:[aA]*(?:[jJ][aA]*)+[jJ]?)\\b\"\n",
        "NOT_LETTERS = r\"[^a-zñáéíóú\\s]\"\n",
        "REPEATED_LETTERS = r\"([a-zñáéíóú])\\1{2,}\"\n",
        "\n",
        "# Mapeo de palabras informales a palabras formales\n",
        "INFORMAL_TO_FORMAL = {\n",
        "    \"q\": \"que\",\n",
        "    \"ke\": \"que\",\n",
        "    \"k\": \"que\",\n",
        "    \"xq\": \"porque\",\n",
        "    \"porq\": \"porque\",\n",
        "    \"pq\": \"porque\",\n",
        "    \"p\": \"para\",\n",
        "    \"pa\": \"para\",\n",
        "    \"d\": \"de\",\n",
        "    \"n\": \"en\",\n",
        "    \"tb\": \"también\",\n",
        "    \"tmb\": \"también\",\n",
        "    \"tmbn\": \"también\",\n",
        "    \"tmbien\": \"también\",\n",
        "    \"tmbn\": \"también\",\n",
        "    \"tambn\": \"también\",\n",
        "    \"toy\": \"estoy\",\n",
        "    \"tas\": \"estas\",\n",
        "    \"ta\": \"está\",\n",
        "    \"tan\": \"estan\",\n",
        "    \"tamos\": \"estamos\",\n",
        "    \"tamo\": \"estamos\",\n",
        "    \"pal\": \"para el\",\n",
        "    \"vamo\": \"vamos\",\n",
        "    \"bue\": \"bueno\",\n",
        "    \"boe\": \"bueno\",\n",
        "    \"buee\": \"bueno\",\n",
        "    \"bn\": \"bien\",\n",
        "}\n",
        "\n",
        "\n",
        "def preprocess_chat(chat: list) -> list:\n",
        "    \"\"\"Preprocesa el chat de WhatsApp, convirtiendo todas las letras en minusculas, eliminando URLs, menciones, risas, caracteres especiales, letras repetidas y mensajes vacios. Reemplaza palabras informales por sus equivalentes formales. Finalmente, ordena los mensajes alfabeticamente y elimina duplicados.\n",
        "\n",
        "    Args:\n",
        "    chat (list): Lista de mensajes del chat de WhatsApp\n",
        "\n",
        "    Returns:\n",
        "    list: Lista de mensajes preprocesados\n",
        "    \"\"\"\n",
        "    chat = [message.lower() for message in chat]\n",
        "\n",
        "    chat = [re.sub(URL, \"\", message) for message in chat]\n",
        "    chat = [re.sub(MENTION, \"\", message) for message in chat]\n",
        "    chat = [re.sub(NOT_LETTERS, \"\", message) for message in chat]\n",
        "    chat = [re.sub(LAUGH, \"\", message) for message in chat]\n",
        "    chat = [re.sub(REPEATED_LETTERS, r\"\\1\", message) for message in chat]\n",
        "\n",
        "    for informal, formal in INFORMAL_TO_FORMAL.items():\n",
        "        chat = [re.sub(r\"\\b{}\\b\".format(informal), formal, message) for message in chat]\n",
        "\n",
        "    chat = [message.strip() for message in chat]\n",
        "    chat = [message for message in chat if message != \"\"]\n",
        "\n",
        "    chat = [re.sub(r\"\\s+\", \" \", message) for message in chat]\n",
        "        \n",
        "    chat = list(dict.fromkeys(chat))\n",
        "    return chat\n",
        "\n",
        "chat = preprocess_chat(raw_chat)"
      ]
    },
    {
      "cell_type": "markdown",
      "metadata": {
        "id": "NGkH8biHlape"
      },
      "source": [
        "## 3. Estructuras de datos\n",
        "\n",
        "Para lograr un funcionamiento eficiente debemos crear las estructuras de datos adecuadas para el problema a resolver. A la hora de correr el predictor, necesitaremos tiempos de búsqueda casi instantaneos, de otra manera el predictor en lugar de ayudar al usuario lo estaría trancando y estorbando.\n",
        "\n",
        "Para lograr esto, utilizaremos **tablas de hash (diccionarios en Python)** para almacenar las probabilidades y cantidad de ocurrencia de palabras, esto nos permite realizar las búsquedas en **O(1)**.\n",
        "\n",
        "Por otro lado, construiremos una lista para almacenar el vocabulario, ya que en cada predicción a realizar tendremos que recorrer todo el vocabulario en busca de la palabra mas probable (Hipotesis MAP).\n",
        "\n",
        "De esta forma podemos conseguir tiempos de predicción de **O(N)** siendo N la cantidad de palabras en el vocabulario."
      ]
    },
    {
      "cell_type": "markdown",
      "metadata": {
        "id": "sBuOTzZ2YrX9"
      },
      "source": [
        "### 3.1 Cargamos diccionario de palabras en español\n",
        "\n",
        "El mismo será utilizado para cruzarlo con nuestro vocabulario generado a partir del chat y así eliminar palabras no deseadas. Además que de esta forma conseguimos modelar un predictor de palabras base sin ningún sesgo de nuestro chat, haciéndolo mas generalizable y apto para cualquier usuario."
      ]
    },
    {
      "cell_type": "code",
      "execution_count": 3,
      "metadata": {
        "id": "syn0cIBdYk5k"
      },
      "outputs": [],
      "source": [
        "filename = \"es.txt\"\n",
        "\n",
        "with open(filename, \"r\", encoding=\"utf-8\") as file:\n",
        "   data = file.readlines()\n",
        "\n",
        "spanish_dict = set()\n",
        "\n",
        "for line in data:\n",
        "   word = line.strip()\n",
        "   spanish_dict.add(word)\n",
        "\n",
        "spanish_dict.add('y')"
      ]
    },
    {
      "cell_type": "code",
      "execution_count": 4,
      "metadata": {},
      "outputs": [
        {
          "data": {
            "text/plain": [
              "636599"
            ]
          },
          "execution_count": 4,
          "metadata": {},
          "output_type": "execute_result"
        }
      ],
      "source": [
        "len(spanish_dict)"
      ]
    },
    {
      "cell_type": "markdown",
      "metadata": {
        "id": "J6BMyVH8Yxhf"
      },
      "source": [
        "### 3.2 Creamos diccionario de ocurrencia de palabras y vocabulario"
      ]
    },
    {
      "cell_type": "code",
      "execution_count": 5,
      "metadata": {
        "id": "kqkgQTq0RJsS"
      },
      "outputs": [],
      "source": [
        "def build_word_count(chat, spanish_dict=None):\n",
        "    words_list = \" \".join(chat).split(\" \")\n",
        "    \n",
        "    # filtrado de palabras con diccionario\n",
        "    if spanish_dict is not None:\n",
        "        filtered_words_list = [word for word in words_list if word in spanish_dict]\n",
        "    else:\n",
        "        filtered_words_list = words_list\n",
        "    \n",
        "    # conteo de ocurrencias de cada palabra\n",
        "    words_count = {}\n",
        "    for word in filtered_words_list:\n",
        "        if word in words_count:\n",
        "            words_count[word] += 1\n",
        "        else:\n",
        "            words_count[word] = 1\n",
        "            \n",
        "    return words_count\n",
        "\n",
        "def build_vocabulary(words_count):\n",
        "    return list(words_count.keys())"
      ]
    },
    {
      "cell_type": "markdown",
      "metadata": {
        "id": "plAIAiGsZMNq"
      },
      "source": [
        "### 3.3 Definimos funciones para manejar los diccionarios de probabilidades\n",
        "\n",
        "Definimos las funciones necesarias para construir y actualizar los diccionarios que almacenan las probabilidades de **P(H)** y **P(D|H)**."
      ]
    },
    {
      "cell_type": "code",
      "execution_count": 6,
      "metadata": {
        "id": "lQOIgdPRZbQf"
      },
      "outputs": [],
      "source": [
        "# Construimos diccionario de probabilidades P(H), probabilidad a priori\n",
        "def build_ph(total_words) -> dict[str, float]:\n",
        "    ph_dict = {word: frequency / total_words for word, frequency in words_count.items()}\n",
        "    return ph_dict\n",
        "\n",
        "# Construimos diccionario de probabilidades P(D|H) en base al hiperparametro N (Cantidad de palabras a considerar)\n",
        "def build_pdh(chat: list, N=1) -> dict[str, dict[str, float]]:\n",
        "    pdh_dict, pdh_dict_count = {}, {}\n",
        "    for message in chat:\n",
        "        words = message.split(\" \")\n",
        "        words = [word for word in words if word in vocabulary]\n",
        "        if len(words) > 1:\n",
        "            for key, val in enumerate(words):\n",
        "                if (val not in pdh_dict_count.keys()):\n",
        "                    pdh_dict[val] = {}\n",
        "                    pdh_dict_count[val] = {}\n",
        "                if key >= 1:\n",
        "                    initial = 0 if key-N < 0 else key-N\n",
        "                    N_words_before = set(words[initial:key])\n",
        "                    for word_before in N_words_before:\n",
        "                        if not word_before in pdh_dict_count[val]:\n",
        "                            pdh_dict[val][word_before] = 0\n",
        "                            pdh_dict_count[val][word_before] = 0\n",
        "                        pdh_dict_count[val][word_before] += 1\n",
        "\n",
        "    for key in pdh_dict.keys():\n",
        "        for subkey in pdh_dict[key].keys():\n",
        "            pdh_dict[key][subkey] = pdh_dict_count[key][subkey] / words_count[subkey]\n",
        "\n",
        "    return pdh_dict, pdh_dict_count\n",
        "\n",
        "\n",
        "def update_pdh(pdh_dict, pdh_dict_count, new_message, N=1):\n",
        "    words = new_message.split(\" \")\n",
        "    words = [word for word in words if word in vocabulary]\n",
        "    if len(words) > 1:\n",
        "        for key, val in enumerate(words):\n",
        "            if (val not in pdh_dict_count.keys()):\n",
        "                pdh_dict_count[val] = {}\n",
        "                pdh_dict[val] = {}\n",
        "            if key >= 1:\n",
        "                initial = 0 if key-N < 0 else key-N\n",
        "                N_words_before = set(words[initial:key])\n",
        "                for word_before in N_words_before:\n",
        "                    if not word_before in pdh_dict_count[val]:\n",
        "                        pdh_dict_count[val][word_before] = 0\n",
        "                        pdh_dict[val][word_before] = 0\n",
        "                    pdh_dict_count[val][word_before] += 1\n",
        "\n",
        "    for key in pdh_dict.keys():\n",
        "        for subkey in pdh_dict[key].keys():\n",
        "            pdh_dict[key][subkey] = pdh_dict_count[key][subkey] / words_count[subkey]\n",
        "            \n",
        "    return pdh_dict, pdh_dict_count\n"
      ]
    },
    {
      "cell_type": "markdown",
      "metadata": {},
      "source": [
        "### 3.4 Definimos la función de entrenamiento del modelo"
      ]
    },
    {
      "cell_type": "markdown",
      "metadata": {},
      "source": [
        "Decidimos crear una función de entrenamiento para poder reutilizar el código ya que el modelo se re-entrenará cada vez que el usuario termine una frase. Construimos todas las estructuras necesarias para el funcionamiento del modelo o las actualizamos en caso de que estemos re-entrenando el modelo.\n",
        "\n",
        "Como se podrá observar, decidimos no cruzar las nuevas frases que ingrese el usuario con el diccionario de palabras en español, ya que consideramos que el usuario puede querer utilizar palabras que no estén en el diccionario, y de esta forma, el predictor se irá adaptando paulatinamente a sus gustos."
      ]
    },
    {
      "cell_type": "code",
      "execution_count": 7,
      "metadata": {},
      "outputs": [],
      "source": [
        "def train(pdh_dict, pdh_dict_count, N=2, chat=chat, spanish_dict=spanish_dict):\n",
        "    global total_words, vocabulary, words_count\n",
        "    words_count = build_word_count(chat, spanish_dict=spanish_dict)\n",
        "    total_words = sum(words_count.values())\n",
        "    vocabulary = build_vocabulary(words_count)   \n",
        "    ph = build_ph(total_words)\n",
        "    if pdh_dict_count is None:\n",
        "        pdh_dict, pdh_dict_count = build_pdh(chat, N=N)\n",
        "    else:\n",
        "        pdh_dict, pdh_dict_count = update_pdh(pdh_dict, pdh_dict_count, chat[-1], N=N)\n",
        "    return ph, pdh_dict, pdh_dict_count"
      ]
    },
    {
      "cell_type": "markdown",
      "metadata": {
        "id": "2ZFrF5rcoD5z"
      },
      "source": [
        "## 4. Implementación"
      ]
    },
    {
      "cell_type": "markdown",
      "metadata": {
        "id": "-IdjqyBPGiUr"
      },
      "source": [
        "### 4.1 Creamos las estructuras necesarias\n",
        "\n",
        "Definimos las stopwords, el hiperparámetro N y creamos los diccionarios de probabilidades **P(H)** y **P(D|H)**."
      ]
    },
    {
      "cell_type": "code",
      "execution_count": 8,
      "metadata": {
        "colab": {
          "base_uri": "https://localhost:8080/"
        },
        "id": "qW50DONCt4RU",
        "outputId": "79db2994-8c06-4fee-c4c7-8e2348305871"
      },
      "outputs": [
        {
          "name": "stderr",
          "output_type": "stream",
          "text": [
            "[nltk_data] Downloading package stopwords to\n",
            "[nltk_data]     C:\\Users\\mathi\\AppData\\Roaming\\nltk_data...\n",
            "[nltk_data]   Package stopwords is already up-to-date!\n"
          ]
        }
      ],
      "source": [
        "import nltk\n",
        "nltk.download('stopwords')\n",
        "\n",
        "# Definimos stopwords a considerar al momento de predecir\n",
        "stopwords = nltk.corpus.stopwords.words(\"spanish\")\n",
        "stopwords.append(\"no\")\n",
        "stopwords.append(\"si\")\n",
        "stopwords.append(\"mas\")\n",
        "stopwords.append(\"que\")\n"
      ]
    },
    {
      "cell_type": "markdown",
      "metadata": {},
      "source": [
        "Utilizamos el hiperpárametro con valor 3"
      ]
    },
    {
      "cell_type": "code",
      "execution_count": 9,
      "metadata": {},
      "outputs": [],
      "source": [
        "N=3\n",
        "ph_dict, pdh_dict, pdh_dict_count = train(None, None, N=3, chat=chat, spanish_dict=spanish_dict)"
      ]
    },
    {
      "cell_type": "markdown",
      "metadata": {
        "id": "txXg9NmBHpa_"
      },
      "source": [
        "### 4.2 Creacion del predictor\n",
        "\n",
        "Construimos la función `recomendacion_bayesiana` que dada una frase devuelve la palabra sugerida. Para esto calculamos la **Hipótesis MAP** utilizando el **m-estimador** para los casos que nunca se habian visto en el entrenamiento del modelo."
      ]
    },
    {
      "cell_type": "code",
      "execution_count": 10,
      "metadata": {},
      "outputs": [],
      "source": [
        "def recomendacion_bayesiana(frase):\n",
        "    if len(frase) >= N:\n",
        "        keys = frase[-N:]\n",
        "    else:\n",
        "        keys = frase\n",
        "    keys = [k.lower() for k in keys]\n",
        "\n",
        "    # Bucar la palabra con mayor probabilidad, es decir, que maximice P(H|D) = P(D|H) * P(H) (Hipoteses MAP)\n",
        "    max_prob = 0\n",
        "    palabra_sugerida = \"\"\n",
        "    last_is_stopword = True if keys[-1] in stopwords else False\n",
        "    for word in vocabulary:\n",
        "        # evita caer en ciclos de recomendacion de stopwords\n",
        "        if last_is_stopword and word in stopwords:\n",
        "            continue\n",
        "        prob = None\n",
        "        for key in keys:\n",
        "            m_estimator = 1 / (words_count.get(key, 0) + len(vocabulary))\n",
        "            if prob is None:\n",
        "                prob = pdh_dict.get(word, {}).get(key, m_estimator)\n",
        "            else:\n",
        "                prob = prob * pdh_dict.get(word, {}).get(key, m_estimator)\n",
        "        prob *= ph_dict[word]\n",
        "        if prob >= max_prob:\n",
        "            max_prob = prob\n",
        "            palabra_sugerida = word\n",
        "\n",
        "    return palabra_sugerida"
      ]
    },
    {
      "cell_type": "code",
      "execution_count": 11,
      "metadata": {},
      "outputs": [
        {
          "name": "stdout",
          "output_type": "stream",
          "text": [
            "esto es una prueba de\n",
            "me parece muy bien\n",
            "nos juntamos en tu casa\n"
          ]
        }
      ],
      "source": [
        "example_frases = [\n",
        "    \"esto es una prueba\",\n",
        "    \"me parece muy\",\n",
        "    \"nos juntamos en tu\",\n",
        "]\n",
        "for frase in example_frases:\n",
        "    print(frase + \" \" + recomendacion_bayesiana(frase.split(\" \")))"
      ]
    },
    {
      "cell_type": "markdown",
      "metadata": {},
      "source": [
        "### 4.3 Playground"
      ]
    },
    {
      "cell_type": "code",
      "execution_count": 12,
      "metadata": {
        "colab": {
          "base_uri": "https://localhost:8080/",
          "height": 460
        },
        "id": "VrHEaPPcj30i",
        "outputId": "010f9f8d-5361-42ff-d60a-1d9d16e22f65"
      },
      "outputs": [
        {
          "name": "stdout",
          "output_type": "stream",
          "text": [
            "Ingrese la frase dando ENTER luego de \u001b[3mcada palabra\u001b[0m.\n",
            "Ingrese sólo ENTER para aceptar la recomendación sugerida, o escriba la siguiente palabra y de ENTER\n",
            "Ingrese '.' para comenzar con una frase nueva.\n",
            "Ingrese '..' para terminar el proceso.\n"
          ]
        }
      ],
      "source": [
        "\n",
        "##### LOOP PRINCIPAL #####\n",
        "\n",
        "print(\"Ingrese la frase dando ENTER luego de \\x1b[3mcada palabra\\x1b[0m.\")\n",
        "print(\"Ingrese sólo ENTER para aceptar la recomendación sugerida, o escriba la siguiente palabra y de ENTER\")\n",
        "print(\"Ingrese '.' para comenzar con una frase nueva.\")\n",
        "print(\"Ingrese '..' para terminar el proceso.\")\n",
        "frase = []\n",
        "palabra_sugerida = \"\"\n",
        "while 1:\n",
        "    palabra = input(\">> \")\n",
        "\n",
        "    if palabra == \"..\":\n",
        "        break\n",
        "\n",
        "    elif palabra == \".\":\n",
        "        print(\"----- Comenzando frase nueva -----\")\n",
        "        chat.append(\" \".join(frase))\n",
        "        ph_dict, pdh_dict, pdh_dict_count = train(pdh_dict, pdh_dict_count, N=N, chat=chat, spanish_dict=spanish_dict)\n",
        "        frase = []\n",
        "\n",
        "    elif palabra == \"\": # acepta última palabra sugerida\n",
        "        frase.append(palabra_sugerida)\n",
        "\n",
        "    else: # escribió una palabra\n",
        "        frase.append(palabra)\n",
        "\n",
        "    if frase:\n",
        "        palabra_sugerida = recomendacion_bayesiana(frase)\n",
        "\n",
        "        frase_propuesta = frase.copy()\n",
        "        frase_propuesta.append(\"\\x1b[3m\"+ palabra_sugerida +\"\\x1b[0m\")\n",
        "\n",
        "        print(\" \".join(frase_propuesta))\n"
      ]
    },
    {
      "cell_type": "markdown",
      "metadata": {
        "id": "faw3W5nq5bxI"
      },
      "source": [
        "### 5. Evaluacion"
      ]
    },
    {
      "cell_type": "markdown",
      "metadata": {
        "id": "dRzUysTT-fWL"
      },
      "source": [
        "Por la naturaleza no deterministica del lenguaje natural, no es simple evaluar la performance del predictor. Por lo tanto, proponemos un metodo de evaluación que conocemos tiene limitaciones pero que al menos nos permitirá establecer una base comparativa entre distintos modelos. \n",
        "\n",
        "Tomaremos 1000 frases elegidas al azar (y que tengan al menos N+1 cantidades de palabras) del chat. Para cada uno de estos mensajes elegiremos una palabra (dentro del rango $[N+1, |\\text{words in mensaje}|]$ ), la cual deberá ser predecida por el modelo. Si el modelo predice exactamente dicha palabra se considera un acierto, de lo contrario, se considera un error.\n",
        "\n",
        "Entrenaremos el modelo con valores en el rango 1 a 4 del hiperparámetro N, y repetiremos esto para dos variantes, una entrenada sobre el chat completo y otra con el chat filtrado con el diccionario de palabras en español."
      ]
    },
    {
      "cell_type": "code",
      "execution_count": 13,
      "metadata": {
        "id": "TXXt4srEvElV"
      },
      "outputs": [
        {
          "data": {
            "text/plain": [
              "1000"
            ]
          },
          "execution_count": 13,
          "metadata": {},
          "output_type": "execute_result"
        }
      ],
      "source": [
        "import numpy as np\n",
        "import random\n",
        "np.random.seed(42)\n",
        "random.seed(42)\n",
        "\n",
        "# hiperparametro N\n",
        "N = 4 \n",
        "# setearlo en 4 nos permite testear a todos los modelos con el mismo test set de mensajes.\n",
        "# si el modelo utiliza una ventana de contexto menor simplemente se ignoran las primeras palabras del contexto\n",
        "\n",
        "shuffled_chats = chat.copy()\n",
        "random.shuffle(shuffled_chats)\n",
        "## Preparamos el test set\n",
        "test_set = []\n",
        "# Elegimos 1000 mensajes al azar\n",
        "index = 0\n",
        "while len(test_set) < 1000 and index < len(shuffled_chats):\n",
        "    msg = shuffled_chats[index]\n",
        "    index += 1\n",
        "    words = msg.split(\" \")\n",
        "    if len(words) <= N:\n",
        "        continue\n",
        "    # elijo la word que tengo que predecir dentro del mensaje\n",
        "    to_predict = np.random.randint(N, len(words))\n",
        "    context = words[to_predict-N:to_predict]\n",
        "    # ejeplo, N=3\n",
        "    # words = [\"a\",\"b\",\"c\",\"d\"]\n",
        "    # to_predict = 3 <= rand < 4\n",
        "    # context = words[3-3:3] = words[0:3] = [\"a\",\"b\",\"c\"]\n",
        "    test_set.append((context, words[to_predict]))\n",
        "\n",
        "len(test_set)"
      ]
    },
    {
      "cell_type": "code",
      "execution_count": 14,
      "metadata": {},
      "outputs": [],
      "source": [
        "import time \n",
        "\n",
        "resultado, training_time = [], []\n",
        "res_filtered, training_time_filtered = [], []\n",
        "for dictionary in [None, spanish_dict]: \n",
        "    for i in range(1,5):\n",
        "        N = i # hay que modificar el N puesto que recomendacion bayesiana lo utiliza\n",
        "        \n",
        "        start = time.time()\n",
        "        ph_dict, pdh_dict, pdh_dict_count = train(None, None, N=i, chat=chat, spanish_dict=dictionary)\n",
        "        lapse = time.time() - start\n",
        "        \n",
        "        if dictionary is None:\n",
        "            training_time.append(lapse)\n",
        "        else:\n",
        "            training_time_filtered.append(lapse)\n",
        "        \n",
        "        correctas = 0\n",
        "        for context, word in test_set:\n",
        "            prediction = recomendacion_bayesiana(context)\n",
        "            correctas += 1 if prediction == word else 0\n",
        "\n",
        "        if dictionary is None:\n",
        "            resultado.append(correctas)\n",
        "        else:\n",
        "            res_filtered.append(correctas)"
      ]
    },
    {
      "cell_type": "code",
      "execution_count": 15,
      "metadata": {
        "id": "u1sVDTpnvLN3"
      },
      "outputs": [
        {
          "name": "stdout",
          "output_type": "stream",
          "text": [
            "Con filtro:\n",
            "\tAciertos  [68, 114, 119, 102]\n",
            "\tTiempos de entrenamiento  [6.482893705368042, 6.3500707149505615, 6.579882621765137, 7.125468015670776]\n",
            "Sin filtro:\n",
            "\tAciertos  [129, 176, 201, 170]\n",
            "\tTiempos de entrenamiento  [4.493280410766602, 5.182491779327393, 5.157037734985352, 5.305946350097656]\n"
          ]
        }
      ],
      "source": [
        "print(\"Con filtro:\")\n",
        "print(\"\\tAciertos \", res_filtered)\n",
        "print(\"\\tTiempos de entrenamiento \", training_time_filtered)\n",
        "\n",
        "print(\"Sin filtro:\")\n",
        "print(\"\\tAciertos \", resultado)\n",
        "print(\"\\tTiempos de entrenamiento \", training_time)"
      ]
    },
    {
      "cell_type": "code",
      "execution_count": 16,
      "metadata": {},
      "outputs": [
        {
          "data": {
            "image/png": "[encoded data removed]",
            "text/plain": [
              "<Figure size 1500x500 with 2 Axes>"
            ]
          },
          "metadata": {},
          "output_type": "display_data"
        }
      ],
      "source": [
        "import matplotlib.pyplot as plt\n",
        "plt.style.use('ggplot') \n",
        "\n",
        "fig, ax = plt.subplots(nrows=1, ncols=2, figsize=(15,5), sharex=True)\n",
        "\n",
        "ax[0].set_title(\"% de aciertos sobre 1000\")\n",
        "ax[0].set_xlabel(\"N\")\n",
        "ax[0].set_ylabel(\"Aciertos\")\n",
        "\n",
        "ax[1].set_title(\"Tiempos de entrenamiento\")\n",
        "ax[1].set_xlabel(\"N\")\n",
        "ax[1].set_ylabel(\"Tiempo (s)\")\n",
        "\n",
        "ax[0].plot(range(1,5), [(res / 1000) * 100 for res in resultado] , label=\"Sin filtro\")\n",
        "ax[0].plot(range(1,5), [(res / 1000) * 100 for res in res_filtered] , label=\"Con filtro\")\n",
        "\n",
        "ax[1].plot(range(1,5), training_time, label=\"Sin filtro\")\n",
        "ax[1].plot(range(1,5), training_time_filtered, label=\"Con filtro\")\n",
        "\n",
        "ax[0].legend()\n",
        "ax[1].legend()\n",
        "ax[0].grid(1)\n",
        "ax[1].grid(1)\n",
        "plt.show()"
      ]
    },
    {
      "cell_type": "markdown",
      "metadata": {},
      "source": [
        "Vemos que el modelo entrenado con el chat filtrado tiene un peor desempeño sobre el conjunto de testing. Sin embargo, esto es esperable y es un defecto de la metodología de testeo elegida. \n",
        "\n",
        "El filtrado quitará palabras del conjunto de entrenamiento, algunas de estas serán luego elegidas para testear y puesto que el modelo no las vió en su entrenamiento no podrá predecirlas. Además, el filtrado \"despersonalizará\" al modelo, ya que el mismo no tendrá en cuenta palabras que el usuario utiliza frecuentemente (y fueron filtradas), un sesgo que si existirá en el conjunto de testeo."
      ]
    },
    {
      "cell_type": "markdown",
      "metadata": {},
      "source": [
        "Podemos observar que, en general, los modelos mejoran su desempeno al utilizar un mayor valor para el hiperparametro N. Esto es esperable, ya que al aumentar N, el modelo tendrá en cuenta un mayor contexto a la hora de predecir la siguiente palabra.\n",
        "\n",
        "Sin embargo, esta mejora se estanca al llegar a 3. Esto puede deberse al largo promedio de los mensajes del chat, si estos en general son cortos, menores a 3 el modelo no podra utilizar mas contexto porque no lo hay."
      ]
    },
    {
      "cell_type": "code",
      "execution_count": 17,
      "metadata": {},
      "outputs": [
        {
          "name": "stdout",
          "output_type": "stream",
          "text": [
            "4.914876112120922\n",
            "3.0288206604843015\n",
            "4.0\n"
          ]
        }
      ],
      "source": [
        "import numpy as np\n",
        "\n",
        "# longitud media de los mensajes en el chat\n",
        "longitudes = [len(msg.split(\" \")) for msg in chat]\n",
        "longitud_media_chat = np.mean(longitudes)\n",
        "desvio_chat = np.std(longitudes)\n",
        "longitud_mediana_chat = np.median(longitudes)\n",
        "\n",
        "print(longitud_media_chat)\n",
        "print(desvio_chat)\n",
        "print(longitud_mediana_chat)"
      ]
    },
    {
      "cell_type": "code",
      "execution_count": 18,
      "metadata": {},
      "outputs": [
        {
          "data": {
            "image/png": "[encoded data removed]",
            "text/plain": [
              "<Figure size 640x480 with 1 Axes>"
            ]
          },
          "metadata": {},
          "output_type": "display_data"
        }
      ],
      "source": [
        "# plot de la distribucion de longitudes de los mensajes en el chat\n",
        "\n",
        "import matplotlib.pyplot as plt\n",
        "\n",
        "plt.hist(longitudes, bins=range(0, 30, 1))\n",
        "plt.show()\n"
      ]
    },
    {
      "cell_type": "markdown",
      "metadata": {},
      "source": [
        "#### Evaluacion de probabilidades\n",
        "\n",
        "Utilizando un chat artificial de pequeño tamaño podemos evaluar el algoritmo que calcula las probabilidades para las predicciones.\n"
      ]
    },
    {
      "cell_type": "code",
      "execution_count": 19,
      "metadata": {},
      "outputs": [],
      "source": [
        "test_chat = [\n",
        "    \"buenos dias todo bien\",\n",
        "    \"volveran en unos dias de las vacaciones\",\n",
        "]\n",
        "\n",
        "ph_dict, pdh_dict, _ = train(None, None, N=1, chat=test_chat, spanish_dict=None)"
      ]
    },
    {
      "cell_type": "code",
      "execution_count": 20,
      "metadata": {},
      "outputs": [
        {
          "data": {
            "text/plain": [
              "{'buenos': {},\n",
              " 'dias': {'buenos': 1.0, 'unos': 1.0},\n",
              " 'todo': {'dias': 0.5},\n",
              " 'bien': {'todo': 1.0},\n",
              " 'volveran': {},\n",
              " 'en': {'volveran': 1.0},\n",
              " 'unos': {'en': 1.0},\n",
              " 'de': {'dias': 0.5},\n",
              " 'las': {'de': 1.0},\n",
              " 'vacaciones': {'las': 1.0}}"
            ]
          },
          "execution_count": 20,
          "metadata": {},
          "output_type": "execute_result"
        }
      ],
      "source": [
        "pdh_dict"
      ]
    },
    {
      "cell_type": "markdown",
      "metadata": {},
      "source": [
        "Podemos observar que no se establecio un P(D|buenos) ni P(D|volveran) ya que ambas son primeras palabras. Para estos casos se utiliza un m_estimador teniendo en cuenta la frecuencia de ambas palabras."
      ]
    },
    {
      "cell_type": "code",
      "execution_count": 21,
      "metadata": {},
      "outputs": [
        {
          "data": {
            "text/plain": [
              "0.09090909090909091"
            ]
          },
          "execution_count": 21,
          "metadata": {},
          "output_type": "execute_result"
        }
      ],
      "source": [
        "1 / (words_count[\"buenos\"] + len(vocabulary))"
      ]
    },
    {
      "cell_type": "markdown",
      "metadata": {},
      "source": [
        "Esta probabilidad se usa como valor por defecto para los casos donde se calcula como sugerencia la palabra \"buenos\""
      ]
    },
    {
      "cell_type": "markdown",
      "metadata": {},
      "source": [
        "La palabra \"dias\" tiene 2 valores en su diccionario. Esto corresponde a las palabras previas que se encuentran en el texto:\n",
        "- \"buenos **dias**...\"\n",
        "- \"...en unos **dias**...\"\n",
        "\n",
        "Su P(D|dias) tiene valor 1 ya que tanto para \"buenos\" como \"unos\" solo hay una muestra, por lo tanto tiene sentido recomendar \"dias\" en ambos casos\n"
      ]
    },
    {
      "cell_type": "markdown",
      "metadata": {},
      "source": [
        "Se puede apreciar que tanto \"todo\" como \"de\" tienen en su diccionario a \"dias\" con un valor de 0.5. Esto se puede interpretar como equiprobabilidad entre recomendar \"todo\" o \"de\" luego de \"dias\" y se justifica por dos apariciones en los textos:\n",
        "\n",
        "- \"buenos **dias** todo...\"\n",
        "- \"...unos **dias** de las vacaciones\""
      ]
    },
    {
      "cell_type": "markdown",
      "metadata": {},
      "source": [
        "El diccionario P(H) correspondiente al chat artificial es el siguiente:"
      ]
    },
    {
      "cell_type": "code",
      "execution_count": 22,
      "metadata": {},
      "outputs": [
        {
          "data": {
            "text/plain": [
              "{'buenos': 0.09090909090909091,\n",
              " 'dias': 0.18181818181818182,\n",
              " 'todo': 0.09090909090909091,\n",
              " 'bien': 0.09090909090909091,\n",
              " 'volveran': 0.09090909090909091,\n",
              " 'en': 0.09090909090909091,\n",
              " 'unos': 0.09090909090909091,\n",
              " 'de': 0.09090909090909091,\n",
              " 'las': 0.09090909090909091,\n",
              " 'vacaciones': 0.09090909090909091}"
            ]
          },
          "execution_count": 22,
          "metadata": {},
          "output_type": "execute_result"
        }
      ],
      "source": [
        "ph_dict"
      ]
    },
    {
      "cell_type": "markdown",
      "metadata": {},
      "source": [
        "Con un total de 11 palabras en todo el chat, habiendo 10 palabras distintas se confirma que todas las palabras tienen una probabilidad de 1/11 excepto \"dias\" que, apareciendo 2 veces en el chat, tiene 2/11"
      ]
    },
    {
      "cell_type": "markdown",
      "metadata": {},
      "source": [
        "Se puede agregar una nueva frase al chat y reentrenar el modelo\n"
      ]
    },
    {
      "cell_type": "code",
      "execution_count": 23,
      "metadata": {},
      "outputs": [],
      "source": [
        "\n",
        "test_chat.append(\"cuantos dias faltan para el parcial\")\n",
        "ph_dict, pdh_dict, _ = train(None, None, N=1, chat=test_chat, spanish_dict=None)"
      ]
    },
    {
      "cell_type": "markdown",
      "metadata": {},
      "source": [
        "El nuevo diccionario de probabilidades actualizado es:"
      ]
    },
    {
      "cell_type": "code",
      "execution_count": 24,
      "metadata": {},
      "outputs": [
        {
          "data": {
            "text/plain": [
              "{'buenos': {},\n",
              " 'dias': {'buenos': 1.0, 'unos': 1.0, 'cuantos': 1.0},\n",
              " 'todo': {'dias': 0.3333333333333333},\n",
              " 'bien': {'todo': 1.0},\n",
              " 'volveran': {},\n",
              " 'en': {'volveran': 1.0},\n",
              " 'unos': {'en': 1.0},\n",
              " 'de': {'dias': 0.3333333333333333},\n",
              " 'las': {'de': 1.0},\n",
              " 'vacaciones': {'las': 1.0},\n",
              " 'cuantos': {},\n",
              " 'faltan': {'dias': 0.3333333333333333},\n",
              " 'para': {'faltan': 1.0},\n",
              " 'el': {'para': 1.0},\n",
              " 'parcial': {'el': 1.0}}"
            ]
          },
          "execution_count": 24,
          "metadata": {},
          "output_type": "execute_result"
        }
      ],
      "source": [
        "pdh_dict"
      ]
    },
    {
      "cell_type": "markdown",
      "metadata": {},
      "source": [
        "Se puede observar que todas las palabras del diccionario relacionadas a la palabra \"dias\" fueron actualizadas, disminuyendo su probabilidad condicional como resultado de una nueva frase que la incluye. Ademas se agregaron las nuevas palabras y se calculo su probabilidad incluyendo palabras anteriores."
      ]
    },
    {
      "cell_type": "markdown",
      "metadata": {},
      "source": [
        "A modo de ejemplo se puede calcular P(\"buenos\"|\"dias\") utilizando el teorema de bayes, asumiendo independencia entre las palabras previas como:\n",
        "\n",
        "P(\"buenos\"|\"dias\") = P(\"dias\"|\"buenos\") * P(\"buenos\") / P(\"dias\")"
      ]
    },
    {
      "cell_type": "code",
      "execution_count": 25,
      "metadata": {},
      "outputs": [
        {
          "data": {
            "text/plain": [
              "0.3333333333333333"
            ]
          },
          "execution_count": 25,
          "metadata": {},
          "output_type": "execute_result"
        }
      ],
      "source": [
        "pdh_dict[\"dias\"][\"buenos\"] * ph_dict[\"buenos\"] / ph_dict[\"dias\"]"
      ]
    }
  ],
  "metadata": {
    "colab": {
      "provenance": []
    },
    "kernelspec": {
      "display_name": "Python 3",
      "name": "python3"
    },
    "language_info": {
      "codemirror_mode": {
        "name": "ipython",
        "version": 3
      },
      "file_extension": ".py",
      "mimetype": "text/x-python",
      "name": "python",
      "nbconvert_exporter": "python",
      "pygments_lexer": "ipython3",
      "version": "3.11.4"
    }
  },
  "nbformat": 4,
  "nbformat_minor": 0
}
